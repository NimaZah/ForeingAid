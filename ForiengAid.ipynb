{
  "nbformat": 4,
  "nbformat_minor": 0,
  "metadata": {
    "colab": {
      "name": "ForiengAid.ipynb",
      "provenance": [],
      "collapsed_sections": [],
      "authorship_tag": "ABX9TyM2ZCBVKtaaM5JvmSjwxCG0",
      "include_colab_link": true
    },
    "kernelspec": {
      "name": "python3",
      "display_name": "Python 3"
    },
    "language_info": {
      "name": "python"
    }
  },
  "cells": [
    {
      "cell_type": "markdown",
      "metadata": {
        "id": "view-in-github",
        "colab_type": "text"
      },
      "source": [
        "<a href=\"https://colab.research.google.com/github/NimaZah/ForeingAid/blob/main/ForiengAid.ipynb\" target=\"_parent\"><img src=\"https://colab.research.google.com/assets/colab-badge.svg\" alt=\"Open In Colab\"/></a>"
      ]
    },
    {
      "cell_type": "code",
      "execution_count": null,
      "metadata": {
        "id": "Hpju9pfCoWDp"
      },
      "outputs": [],
      "source": [
        "#####################################################\n",
        "## ** Replication Code for:                        ##\n",
        "## \"Punishment and Denial in the North Caucasus\"   ##\n",
        "## by Monica Duffy Toft and Yuri M. Zhukov         ##\n",
        "#  v. 20 March 2012                                ## \n",
        "##  This program contains scripts to execute the   ##\n",
        "##  a) Markov transition models, as shown          ##\n",
        "##     in Tables 1 & 2                             ##\n",
        "##  b) The stochastic simulations, reported        ##\n",
        "##     in Figures 3-6.                             ##\n",
        "##  c) All related data and objects                ##\n",
        "#####################################################"
      ]
    },
    {
      "cell_type": "code",
      "source": [
        "#####################################################\n",
        "## WARNING:  \n",
        "## We recommend a multi-core processor with at     ##\n",
        "## least 8GB of RAM.                               ##\n",
        "##                                                 ##\n",
        "## The code was written in R. Please set up your   ##\n",
        "## envirenment in colab                            ## \n",
        "##  model objects                                  ##\n",
        "##                                                 ##\n",
        "## - Models.RData (8 models shown in Tables 1 & 2) ##\n",
        "## - SimsDenial.RData (simulation results)         ##\n",
        "## - SimsDenialPunish.RData (simulation results)   ##\n",
        "## - SimsPunish.RData (simulation results)         ##\n",
        "## - SimsNoAction.RData (simulation results)       ##\n",
        "##                                                 ##\n",
        "#####################################################\n",
        "\n",
        "# For downloading data: \n",
        "https://github.com/NimaZah/ForeingAid/raw/main/attacks.dta\n",
        "https://github.com/NimaZah/ForeingAid/raw/main/duration.dta\n"
      ],
      "metadata": {
        "id": "lhYGA6g6ouBp"
      },
      "execution_count": null,
      "outputs": []
    },
    {
      "cell_type": "code",
      "source": [
        "\n",
        "\n",
        "## Clear workspace\n",
        "rm(list=ls())\n",
        "\n",
        "## Load packages\n",
        "library(mgcv)\n",
        "library(maptools)\n",
        "library(classInt)\n",
        "library(lmtest)\n",
        "\n",
        "## Set working directory\n",
        "setwd(\"PathToFolder\")\n",
        "setwd(\"/Users/Nima/Documents/Research/RELIGION2\")"
      ],
      "metadata": {
        "id": "MYwOquHvpY6R"
      },
      "execution_count": null,
      "outputs": []
    },
    {
      "cell_type": "code",
      "source": [
        "## Separate data into training and validation sets \n",
        "## (for cross-validation) \n",
        "\n",
        "set.seed(123)\n",
        "mat.s <- sample(data$TSID, size=(.1*nrow(data)), replace = FALSE)\n",
        "mat.out <- subset(data,data$TSID%in%mat.s)     ## Validation set\n",
        "mat.in <- subset(data,data$TSID%in%mat.s==0)   ## Training set\n",
        "names(mat.out)"
      ],
      "metadata": {
        "id": "QNr3-w2asToU"
      },
      "execution_count": null,
      "outputs": []
    },
    {
      "cell_type": "markdown",
      "source": [
        "## Markov transition models"
      ],
      "metadata": {
        "id": "ZOT24OLusrlV"
      }
    },
    {
      "cell_type": "code",
      "source": [
        "\n",
        "# # Model 1\n",
        "z.gam1 < -gam(REBEL_b~L_REBEL_b + L_SPETZ_b + POP + ELEVATION + ln_NEAR + \n",
        "              I_SPETZ + I_POP + I_ELEVATION + I_ln_NEAR + s(LONG, LAT),\n",
        "              data = mat.in, family = binomial)\n",
        "summary(z.gam1)\n",
        "\n",
        "# # Model 2\n",
        "z.gam2 < -gam(REBEL_b~L_REBEL_b + L_SPETZ_b + POP + ELEVATION + ln_NEAR +\n",
        "              ln_DMIL + I_SPETZ + I_POP + I_ELEVATION + I_ln_NEAR + I_ln_DMIL +\n",
        "              s(LONG, LAT), data = mat.in, family = binomial)\n",
        "summary(z.gam2)\n",
        "\n",
        "# # Model 3\n",
        "z.gam3 < -gam(REBEL_b~L_REBEL_b + L_SPETZ_b + POP + ELEVATION + ln_NEAR +\n",
        "              ln_DMIL + CAPITAL + I_SPETZ + I_POP + I_ELEVATION + I_ln_NEAR +\n",
        "              I_ln_DMIL + I_CAPITAL + s(LONG, LAT), data = mat.in, family = binomial)\n",
        "summary(z.gam3)\n",
        "\n",
        "# # Model 4\n",
        "z.gam4 < -gam(REBEL_b~L_REBEL_b + L_SPETZ_b + POP + ELEVATION + ln_NEAR +\n",
        "              ln_DMIL + CAPITAL + L_UNEMPLOY + I_SPETZ + I_POP + I_ELEVATION +\n",
        "              I_ln_NEAR + I_ln_DMIL + I_CAPITAL + I_L_UNEMPLOY + s(LONG, LAT),\n",
        "              data = mat.in, family = binomial)\n",
        "summary(z.gam4)\n",
        "\n",
        "# # Model 5\n",
        "z.gam5 < -gam(REBEL_b~L_REBEL_b + L_SPETZ_b + POP + SLOPE + ln_NEAR + I_SPETZ +\n",
        "              I_POP + I_SLOPE + I_ln_NEAR + s(LONG, LAT), data = mat.in,\n",
        "              family = binomial)\n",
        "summary(z.gam5)\n",
        "\n",
        "# # Model 6\n",
        "z.gam6 < -gam(REBEL_b~L_REBEL_b + L_SPETZ_b + POP + SLOPE + ln_NEAR + ln_DMIL +\n",
        "              I_SPETZ + I_POP + I_SLOPE + I_ln_NEAR + I_ln_DMIL + s(LONG, LAT),\n",
        "              data = mat.in, family = binomial)\n",
        "summary(z.gam6)\n",
        "\n",
        "# # Model 7\n",
        "z.gam7 < -gam(REBEL_b~L_REBEL_b + L_SPETZ_b + POP + SLOPE + ln_NEAR + ln_DMIL +\n",
        "              CAPITAL + I_SPETZ + I_POP + I_SLOPE + I_ln_NEAR + I_ln_DMIL +\n",
        "              I_CAPITAL + s(LONG, LAT), data = mat.in, family = binomial)\n",
        "summary(z.gam7)\n",
        "\n",
        "# # Model 8\n",
        "z.gam8 < -gam(REBEL_b~L_REBEL_b + L_SPETZ_b + POP + SLOPE + ln_NEAR + ln_DMIL +\n",
        "              CAPITAL + L_UNEMPLOY + I_SPETZ + I_POP + I_SLOPE + I_ln_NEAR +\n",
        "              I_ln_DMIL + I_CAPITAL + I_L_UNEMPLOY + s(LONG, LAT),\n",
        "              data = mat.in, family = binomial)\n",
        "summary(z.gam8)"
      ],
      "metadata": {
        "id": "dALbW_7usXb8"
      },
      "execution_count": null,
      "outputs": []
    },
    {
      "cell_type": "code",
      "source": [
        "## Save Model Objects\n",
        "#save(z.gam1,z.gam2,z.gam3,z.gam4,z.gam5,z.gam6,z.gam7,z.gam8,file=\"Models.RData\")"
      ],
      "metadata": {
        "id": "udhyEB9nsgYO"
      },
      "execution_count": null,
      "outputs": []
    },
    {
      "cell_type": "code",
      "source": [
        "## Model 1\n",
        "z.gam1a <- gam(REBEL_b ~  L_REBEL_b + L_SPETZ_b + POP + ELEVATION + ln_NEAR +\n",
        "               s(LONG,LAT), data = mat.in, family=binomial)\n",
        "summary(z.gam1a)\n",
        "\n",
        "## Model 2\n",
        "z.gam2a <- gam(REBEL_b ~  L_REBEL_b + L_SPETZ_b + POP + ELEVATION + ln_NEAR +\n",
        "               ln_DMIL  + s(LONG,LAT), data = mat.in, family=binomial)\n",
        "summary(z.gam2a)\n",
        "\n",
        "## Model 3\n",
        "z.gam3a <- gam(REBEL_b ~  L_REBEL_b + L_SPETZ_b + POP + ELEVATION + ln_NEAR +\n",
        "               ln_DMIL + CAPITAL  + s(LONG,LAT), data = mat.in, family=binomial)\n",
        "summary(z.gam3a)\n",
        "\n",
        "## Model 4\n",
        "z.gam4a <- gam(REBEL_b ~  L_REBEL_b + L_SPETZ_b + POP + ELEVATION + ln_NEAR +\n",
        "               ln_DMIL + CAPITAL + L_UNEMPLOY + s(LONG,LAT), data = mat.in,\n",
        "               family=binomial)\n",
        "summary(z.gam4a)\n"
      ],
      "metadata": {
        "id": "szX1-aAesnEx"
      },
      "execution_count": null,
      "outputs": []
    },
    {
      "cell_type": "code",
      "source": [
        "## Save Model Objects\n",
        "#save(z.gam1a,z.gam2a,z.gam3a,z.gam4a,file=\"AdditiveModels.RData\")"
      ],
      "metadata": {
        "id": "rYAM93olsoJq"
      },
      "execution_count": null,
      "outputs": []
    },
    {
      "cell_type": "markdown",
      "source": [
        "## LRT "
      ],
      "metadata": {
        "id": "LeLGvFBsstY1"
      }
    },
    {
      "cell_type": "code",
      "source": [
        "#load(\"AdditiveModels.RData\")\n",
        "#load(\"Models.RData\")\n",
        "\n",
        "lrtest(z.gam1,z.gam1a)\n",
        "lrtest(z.gam2,z.gam2a)\n",
        "lrtest(z.gam3,z.gam3a)\n",
        "lrtest(z.gam4,z.gam4a)"
      ],
      "metadata": {
        "id": "eoGXihiPsxNt"
      },
      "execution_count": null,
      "outputs": []
    },
    {
      "cell_type": "markdown",
      "source": [
        "\n",
        "## generating the full regression table output, with cross-validation statistics"
      ],
      "metadata": {
        "id": "TGcPgbBItwHW"
      }
    },
    {
      "cell_type": "code",
      "source": [
        "## Load model objects (to save time)\n",
        "load(\"Models.RData\")\n",
        "\n",
        "## functions\n",
        "Table1 <- regtable(mod1 = z.gam1, mod2 = z.gam2, mod3 = z.gam3, mod4 = z.gam4)\n",
        "Table1\n",
        "Table2 <- regtable(mod1 = z.gam5, mod2 = z.gam6, mod3 = z.gam7, mod4 = z.gam8)\n",
        "Table2"
      ],
      "metadata": {
        "id": "lywshI7VszQo"
      },
      "execution_count": null,
      "outputs": []
    },
    {
      "cell_type": "markdown",
      "source": [
        "## Prepare for simulations"
      ],
      "metadata": {
        "id": "Ss5aySl2uSCb"
      }
    },
    {
      "cell_type": "code",
      "source": [
        "## Remove all model objects but Model 3 (to free up  memory)\n",
        "rm(z.gam1, z.gam2, z.gam4, z.gam5, z.gam6, z.gam7, z.gam8)"
      ],
      "metadata": {
        "id": "6nTprURXuS1D"
      },
      "execution_count": null,
      "outputs": []
    },
    {
      "cell_type": "code",
      "source": [
        "load(\"FullNet.RData\")"
      ],
      "metadata": {
        "id": "89fQnSsLuXSa"
      },
      "execution_count": null,
      "outputs": []
    },
    {
      "cell_type": "code",
      "source": [
        "## Find maximum road distance in the dataset\n",
        "maxn <- max(data$L_NEAR_max, na.rm = T)"
      ],
      "metadata": {
        "id": "R6wqHJr-uavX"
      },
      "execution_count": null,
      "outputs": []
    },
    {
      "cell_type": "code",
      "source": [
        "## Select model for use in simulations (Model 3)\n",
        "mod <- z.gam3"
      ],
      "metadata": {
        "id": "msWJ8xAOucQS"
      },
      "execution_count": null,
      "outputs": []
    },
    {
      "cell_type": "code",
      "source": [
        "## Take single cross section of data to seed simulations \n",
        "dat <- data[which(data$YRMO == 200812), ]"
      ],
      "metadata": {
        "id": "uvuEIS3Kudf6"
      },
      "execution_count": null,
      "outputs": []
    },
    {
      "cell_type": "code",
      "source": [
        "## Remove full dataset\n",
        "rm(data)"
      ],
      "metadata": {
        "id": "C49XvRSRugWx"
      },
      "execution_count": null,
      "outputs": []
    },
    {
      "cell_type": "code",
      "source": [
        "## Remove all models except Model 3\n",
        "rm(z.gam1, z.gam2, z.gam4, z.gam5, z.gam6, z.gam7, z.gam8)\n",
        "\n",
        "## Choose number of simulations\n",
        "r. <- 100"
      ],
      "metadata": {
        "id": "R67XiabZuizK"
      },
      "execution_count": null,
      "outputs": []
    },
    {
      "cell_type": "markdown",
      "source": [
        "## Simulation"
      ],
      "metadata": {
        "id": "iSHu8l71ulRx"
      }
    },
    {
      "cell_type": "code",
      "source": [
        "sims.denial <- denial.Sim(dat = dat, mod = mod, CIDs = CIDs, r. = r.)\n",
        "sims.denial.punish <- denial.punish.Sim(dat = dat, mod = mod, CIDs = CIDs, r. = r.)\n",
        "sims.punish <- punish.Sim(dat = dat, mod = mod, CIDs = CIDs, r. = r.)\n",
        "sims.na <- noaction.Sim(dat = dat, mod = mod, CIDs = CIDs, r. = r.)\n"
      ],
      "metadata": {
        "id": "N7dQyuIwumpF"
      },
      "execution_count": null,
      "outputs": []
    },
    {
      "cell_type": "markdown",
      "source": [
        "## Analysis of simulated data"
      ],
      "metadata": {
        "id": "Tc-v95NLuu4A"
      }
    },
    {
      "cell_type": "code",
      "source": [
        "rm(fullnet)\n",
        "\n",
        "## Load simulation output (to save time)\n",
        "load(\"SimsDenial.RData\")\n",
        "load(\"SimsPunish.RData\")\n",
        "load(\"SimsDenialPunish.RData\")\n",
        "load(\"SimsNoAction.RData\")\n",
        "\n",
        "## Load boundaries and road layers for map\n",
        "load(\"MapLayers.RData\")"
      ],
      "metadata": {
        "id": "KTmYOUeLuvsM"
      },
      "execution_count": null,
      "outputs": []
    },
    {
      "cell_type": "code",
      "source": [
        "## Calculate summary statistics for probabilities of attack\n",
        "y.q <- apply(sims.denial$probs, 2, mean, na.rm = T)\n",
        "y.qr <- apply(sims.denial.punish$probs, 2, mean, na.rm = T)\n",
        "y.r <- apply(sims.punish$probs, 2, mean, na.rm = T)\n",
        "y.na <- apply(sims.na$probs, 2, mean, na.rm = T)\n",
        "y.qmin <- apply(sims.denial$probs, 2, min, na.rm = T)\n",
        "y.qrmin <- apply(sims.denial.punish$probs, 2, min, na.rm = T)\n",
        "y.rmin <- apply(sims.punish$probs, 2, min, na.rm = T)\n",
        "y.namin <- apply(sims.na$probs, 2, min, na.rm = T)\n",
        "y.qmax <- apply(sims.denial$probs, 2, max, na.rm = T)\n",
        "y.qrmax <- apply(sims.denial.punish$probs, 2, max, na.rm = T)\n",
        "y.rmax <- apply(sims.punish$probs, 2, max, na.rm = T)\n",
        "y.namax <- apply(sims.na$probs, 2, max, na.rm = T)"
      ],
      "metadata": {
        "id": "WPqjGvSGu1zm"
      },
      "execution_count": null,
      "outputs": []
    },
    {
      "cell_type": "markdown",
      "source": [
        "## Visualization"
      ],
      "metadata": {
        "id": "TsfAA4qKu554"
      }
    },
    {
      "cell_type": "code",
      "source": [
        "## Plot individual-run and average probabilities\n",
        "par(mar = c(4, 4, 2.5, 0.5))\n",
        "plot(x = 0:24, y = y.q, type = \"l\", ylim = c(min(y.qmin, y.qrmin, y.rmin,\n",
        "                                                 y.namin), max(y.qmax,\n",
        "                                                               y.qrmax,\n",
        "                                                               y.rmax,\n",
        "                                                               y.namax) + .0005),\n",
        "      col = \"darkgreen\", lwd = 2, xlab = \"Period\",\n",
        "      ylab = \"Probability of Attack\", bty = \"n\",\n",
        "      xaxt = \"n\", yaxt = \"n\", main = \"Strategy Simulation\")\n",
        "axis(side = 1, at = seq(0, 24, by = 3), cex.axis = .8)\n",
        "axis(side = 2, at = seq(0.0005, 0.0035, by = .0005), las = 1, cex.axis = .65)\n",
        "for (i in 1:100) {\n",
        "  lines(x = 0:24, y = sims.denial$probs[i, ], col = \"darkgreen\", lwd = .2)\n",
        "}\n",
        "for (i in 1:100) {\n",
        "  lines(x = 0:24, y = sims.denial.punish$probs[i, ], col = \"darkorange\", lwd = .2)\n",
        "}\n",
        "for (i in 1:100) {\n",
        "  lines(x = 0:24, y = sims.punish$probs[i, ], col = \"red\", lwd = .2)\n",
        "}\n",
        "for (i in 1:100) {\n",
        "  lines(x = 0:24, y = sims.na$probs[i, ], col = \"skyblue4\", lwd = .2)\n",
        "}\n",
        "lines(x = 0:24, y = y.q, type = \"l\", col = \"darkgreen\", lwd = 2)\n",
        "lines(x = 0:24, y = y.q, type = \"l\", lty = \"dotted\", lwd = 1)\n",
        "lines(x = 0:24, y = y.qr, type = \"l\", col = \"darkorange\", lwd = 2)\n",
        "lines(x = 0:24, y = y.qr, type = \"l\", lty = \"dashed\", lwd = 1)\n",
        "lines(x = 0:24, y = y.r, type = \"l\", col = \"red\", lwd = 2)\n",
        "lines(x = 0:24, y = y.r, type = \"l\", lty = \"dotdash\", lwd = 1)\n",
        "lines(x = 0:24, y = y.na, type = \"l\", col = \"skyblue4\", lwd = 2)\n",
        "lines(x = 0:24, y = y.na, type = \"l\", lty = \"solid\", lwd = 1)\n",
        "\n",
        "## Add labels, legends, etc.\n",
        "legend(x = \"top\", bty = \"n\", ncol = 2, legend = c(\"Denial\", \"Punishment\",\n",
        "                                                  \"Denial + Punishment\",\n",
        "                                                  \"No Action\"),\n",
        "        col = c(\"green\", \"red\", \"darkorange\", \"skyblue4\"),\n",
        "        cex = .6, lwd = 3)\n",
        "legend(x = \"top\", bty = \"n\", ncol = 2,\n",
        "       legend = c(\"Denial\", \"Punishment\", \"Denial + Punishment\", \"No Action\"),\n",
        "       col = c(\"black\"), lty = c(\"dotted\", \"dotdash\", \"dashed\", \"solid\"),\n",
        "       cex = .6, lwd = 1)"
      ],
      "metadata": {
        "id": "YEgCAkZcu7rK"
      },
      "execution_count": null,
      "outputs": []
    },
    {
      "cell_type": "markdown",
      "source": [
        "## Marginal probabilities"
      ],
      "metadata": {
        "id": "cOdqFD66vAcT"
      }
    },
    {
      "cell_type": "code",
      "source": [
        "Marginal.D <- marginals(sims = sims.denial, burnin = 6)\n",
        "Marginal.DP <- marginals(sims = sims.denial.punish, burnin = 6)\n",
        "Marginal.P <- marginals(sims = sims.punish, burnin = 6)\n",
        "Marginal.NA <- marginals(sims = sims.na, burnin = 6)"
      ],
      "metadata": {
        "id": "cWqXL35KvBnL"
      },
      "execution_count": null,
      "outputs": []
    },
    {
      "cell_type": "markdown",
      "source": [
        "## Conditional probabilities"
      ],
      "metadata": {
        "id": "WpV6Ec2HvDJI"
      }
    },
    {
      "cell_type": "code",
      "source": [
        "onditional.D <- conditionals(sims = sims.denial, burnin = 6)\n",
        "Conditional.DP <- conditionals(sims = sims.denial.punish, burnin = 6)\n",
        "Conditional.P <- conditionals(sims = sims.punish, burnin = 6)\n",
        "Conditional.NA <- conditionals(sims = sims.na, burnin = 6)\n"
      ],
      "metadata": {
        "id": "B8ZsS2Q-vERq"
      },
      "execution_count": null,
      "outputs": []
    },
    {
      "cell_type": "markdown",
      "source": [
        "## REPLICATE Kolmogorov-Smirnov statistics"
      ],
      "metadata": {
        "id": "16BEXs-ivJN8"
      }
    },
    {
      "cell_type": "code",
      "source": [
        "## Create list of marginal probabilities to be compared\n",
        "MARGS <- list(Marginal.DP[1, ], Marginal.P[1, ], Marginal.D[1, ], Marginal.NA[1, ])\n",
        "\n",
        "## Create empty list to store KS pairwise results\n",
        "KS <- list()\n",
        "KS$statistics <- matrix(NA, 4, 4)\n",
        "rownames(KS$statistics) <- c(\"Denial + Punishment\", \"Punishment\", \"Denial\", \"No Action\")\n",
        "colnames(KS$statistics) <- c(\"Denial + Punishment\", \"Punishment\", \"Denial\", \"No Action\")\n",
        "KS$pval <- matrix(NA, 4, 4)\n",
        "rownames(KS$pval) <- c(\"Denial + Punishment\", \"Punishment\", \"Denial\", \"No Action\")\n",
        "colnames(KS$pval) <- c(\"Denial + Punishment\", \"Punishment\", \"Denial\", \"No Action\")\n",
        "\n",
        "## Calculate test statistics\n",
        "for (i in 1:4) {\n",
        "  for (j in 1:4) {\n",
        "    KS$statistics[i, j] <- ks.test(MARGS[[i]], MARGS[[j]])$statistic\n",
        "    KS$pval[i, j] <- round(ks.test(MARGS[[i]], MARGS[[j]])$p.value, 5)\n",
        "  }\n",
        "}\n",
        "\n",
        "KS\n"
      ],
      "metadata": {
        "id": "gUtWgrMVvKwl"
      },
      "execution_count": null,
      "outputs": []
    },
    {
      "cell_type": "markdown",
      "source": [
        "## Calculate basic reproduction number (R0)"
      ],
      "metadata": {
        "id": "L0BOZn6nvOyb"
      }
    },
    {
      "cell_type": "code",
      "source": [
        "# Find initial probability (I_0) used in simulations\n",
        "N <- nrow(sims.denial$runs[[1]])\n",
        "I <- sims.denial$sums[1, 1] / N\n",
        "\n",
        "\n",
        "# Denial\n",
        "R0.D <- log(Matrix.D$Mean[2, 2], base = Matrix.D$Mean[1, 1]) / I\n",
        "R0.Dl <- log(Matrix.D$Lower[2, 2], base = Matrix.D$Lower[1, 1]) / I\n",
        "R0.Du <- log(Matrix.D$Upper[2, 2], base = Matrix.D$Upper[1, 1]) / I\n",
        "\n",
        "\n",
        "# Denial + Punishment\n",
        "R0.DP <- log(Matrix.DP$Mean[2, 2], base = Matrix.DP$Mean[1, 1]) / I\n",
        "R0.DPl <- log(Matrix.DP$Lower[2, 2], base = Matrix.DP$Lower[1, 1]) / I\n",
        "R0.DPu <- log(Matrix.DP$Upper[2, 2], base = Matrix.DP$Upper[1, 1]) / I\n",
        "\n",
        "\n",
        "# Punishment\n",
        "R0.P <- log(Matrix.P$Mean[2, 2], base = Matrix.P$Mean[1, 1]) / I\n",
        "R0.Pl <- log(Matrix.P$Lower[2, 2], base = Matrix.P$Lower[1, 1]) / I\n",
        "R0.Pu <- log(Matrix.P$Upper[2, 2], base = Matrix.P$Upper[1, 1]) / I\n",
        "\n",
        "\n",
        "# No Action\n",
        "R0.NA <- log(Matrix.NA$Mean[2, 2], base = Matrix.NA$Mean[1, 1]) / I\n",
        "R0.NAl <- log(Matrix.NA$Lower[2, 2], base = Matrix.NA$Lower[1, 1]) / I\n",
        "R0.NAu <- log(Matrix.NA$Upper[2, 2], base = Matrix.NA$Upper[1, 1]) / I"
      ],
      "metadata": {
        "id": "OXFSvgIBvR2P"
      },
      "execution_count": null,
      "outputs": []
    }
  ]
}